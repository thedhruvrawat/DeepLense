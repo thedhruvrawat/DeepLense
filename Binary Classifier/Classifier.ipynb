{
 "cells": [
  {
   "cell_type": "markdown",
   "metadata": {},
   "source": [
    "# Exploring Equivariant Neural Networks"
   ]
  },
  {
   "cell_type": "markdown",
   "metadata": {},
   "source": [
    "## Building a robust and efficient model for `Binary Classification` in PyTorch"
   ]
  },
  {
   "cell_type": "markdown",
   "metadata": {},
   "source": [
    "### Dataset Description: A set of simulated 10,000 strong gravitational lensing images with and without substructure. "
   ]
  },
  {
   "cell_type": "code",
   "execution_count": 1,
   "metadata": {},
   "outputs": [],
   "source": [
    "# Importing necessary libraries\n",
    "import torch\n",
    "import numpy as np\n",
    "import pandas as pd\n",
    "import seaborn as sns\n",
    "import matplotlib.pyplot as plt"
   ]
  },
  {
   "cell_type": "code",
   "execution_count": 2,
   "metadata": {},
   "outputs": [
    {
     "data": {
      "text/plain": [
       "<torch._C.Generator at 0x7f4f1e522250>"
      ]
     },
     "execution_count": 2,
     "metadata": {},
     "output_type": "execute_result"
    }
   ],
   "source": [
    "# Setting styles\n",
    "%matplotlib inline\n",
    "sns.set_style('darkgrid')\n",
    "\n",
    "# Setting random seed\n",
    "np.random.seed(0)\n",
    "torch.manual_seed(0)"
   ]
  },
  {
   "cell_type": "code",
   "execution_count": 3,
   "metadata": {},
   "outputs": [],
   "source": [
    "# Setting the number of images to be processed in each \n",
    "batch_size = 32\n",
    "\n",
    "# Setting size of test and validation datasets\n",
    "test_size = 0.1 # 10%\n",
    "valid_size = 0.1 # 10%\n",
    "classes = [0,1]"
   ]
  },
  {
   "cell_type": "markdown",
   "metadata": {},
   "source": [
    "## Data"
   ]
  },
  {
   "cell_type": "markdown",
   "metadata": {},
   "source": [
    "### Data Loading"
   ]
  },
  {
   "cell_type": "markdown",
   "metadata": {},
   "source": [
    "`ToTensor` converts a PIL Image or `numpy.ndarray` (H x W x C) in the range [0, 255] to a `torch.FloatTensor` of shape (C x H x W) in the range [0.0, 1.0]"
   ]
  },
  {
   "cell_type": "code",
   "execution_count": 4,
   "metadata": {},
   "outputs": [],
   "source": [
    "import torchvision.transforms as transforms\n",
    "\n",
    "# Defining a transform to resize the images to (224,224) and converting them to Tensor\n",
    "transform = transforms.Compose([\n",
    "    transforms.RandomHorizontalFlip(),\n",
    "    transforms.RandomRotation(20),\n",
    "    transforms.Resize(size=(224,224)),\n",
    "    transforms.ToTensor(),\n",
    "#     transforms.Normalize((0.5, 0.5, 0.5), (0.5, 0.5, 0.5))\n",
    "    ])"
   ]
  },
  {
   "cell_type": "code",
   "execution_count": 5,
   "metadata": {},
   "outputs": [
    {
     "name": "stdout",
     "output_type": "stream",
     "text": [
      "Total number of images:  10000\n"
     ]
    }
   ],
   "source": [
    "from torchvision import datasets\n",
    "\n",
    "# Specifying the path of data\n",
    "data_path = r'./lenses'\n",
    "\n",
    "# Creating a dataset to store the data\n",
    "data = datasets.ImageFolder(\n",
    "        root=data_path,\n",
    "        transform=transform\n",
    "    )\n",
    "print(\"Total number of images: \", len(data))"
   ]
  },
  {
   "cell_type": "markdown",
   "metadata": {},
   "source": [
    "### Data Exploration"
   ]
  },
  {
   "cell_type": "markdown",
   "metadata": {},
   "source": [
    "The `class_to_idx` function is pre-built in PyTorch. It returns class ID's present in the dataset."
   ]
  },
  {
   "cell_type": "code",
   "execution_count": 6,
   "metadata": {},
   "outputs": [
    {
     "data": {
      "text/plain": [
       "{'no_sub': 0, 'sub': 1}"
      ]
     },
     "execution_count": 6,
     "metadata": {},
     "output_type": "execute_result"
    }
   ],
   "source": [
    "data.class_to_idx"
   ]
  },
  {
   "cell_type": "code",
   "execution_count": 7,
   "metadata": {},
   "outputs": [
    {
     "data": {
      "text/plain": [
       "{0: 'no_sub', 1: 'sub'}"
      ]
     },
     "execution_count": 7,
     "metadata": {},
     "output_type": "execute_result"
    }
   ],
   "source": [
    "# Creating a function to reverse map the class ID's to class\n",
    "lab2class = {v: k for k, v in data.class_to_idx.items()}\n",
    "lab2class"
   ]
  },
  {
   "cell_type": "code",
   "execution_count": 8,
   "metadata": {},
   "outputs": [],
   "source": [
    "# Creating a function which returns the class distribution of the dataset\n",
    "def get_class_distribution(data_object):\n",
    "    count_dict = {k:0 for k,v in data_object.class_to_idx.items()}\n",
    "    for _, label_id in data_object:\n",
    "        label = lab2class[label_id]\n",
    "        count_dict[label] += 1\n",
    "    return count_dict"
   ]
  },
  {
   "cell_type": "code",
   "execution_count": 9,
   "metadata": {},
   "outputs": [],
   "source": [
    "# A function to display the bar graph plot of a dictionary object\n",
    "def plot_from_dict(dict_obj, plot_title, **kwargs):\n",
    "    return sns.barplot(data = pd.DataFrame.from_dict([dict_obj]).melt(), x = \"variable\", y=\"value\", hue=\"variable\", **kwargs).set_title(plot_title)"
   ]
  },
  {
   "cell_type": "code",
   "execution_count": 10,
   "metadata": {},
   "outputs": [
    {
     "data": {
      "text/plain": [
       "Text(0.5, 1.0, 'Dataset Distribution (before Train/Test/Val split)')"
      ]
     },
     "execution_count": 10,
     "metadata": {},
     "output_type": "execute_result"
    },
    {
     "data": {
      "image/png": "[encoded data removed]",
      "text/plain": [
       "<Figure size 576x360 with 1 Axes>"
      ]
     },
     "metadata": {},
     "output_type": "display_data"
    }
   ],
   "source": [
    "# Viewing the class distribution of the data before splitting\n",
    "plt.figure(figsize=(8,5))\n",
    "plot_from_dict(get_class_distribution(data), plot_title=\"Dataset Distribution (before Train/Test/Val split)\")"
   ]
  },
  {
   "cell_type": "markdown",
   "metadata": {},
   "source": [
    "The entire data will be divided into three parts\n",
    "1. <b>Training Dataset (80%)</b> : Used for training the Classification model\n",
    "2. <b>Validation Dataset (10%)</b> : For estimating the model skills, and using it to tune the hyperparameters\n",
    "3. <b>Test Dataset (10%)</b>: For testing our model"
   ]
  },
  {
   "cell_type": "markdown",
   "metadata": {},
   "source": [
    "I have used `SubsetRandomSampler` for making dataset loaders so that each batch receives a random distribution of classes"
   ]
  },
  {
   "cell_type": "code",
   "execution_count": 11,
   "metadata": {},
   "outputs": [],
   "source": [
    "from torch.utils.data.sampler import SubsetRandomSampler\n",
    "\n",
    "# Testing\n",
    "num_data = len(data)\n",
    "indices_data = list(range(num_data))\n",
    "np.random.shuffle(indices_data)\n",
    "split_tt = int(np.floor(test_size * num_data))\n",
    "train_idx, test_idx = indices_data[split_tt:], indices_data[:split_tt]\n",
    "\n",
    "# Validation\n",
    "num_train = len(train_idx)\n",
    "indices_train = list(range(num_train))\n",
    "np.random.shuffle(indices_train)\n",
    "split_tv = int(np.floor(valid_size * num_train))\n",
    "train_new_idx, valid_idx = indices_train[split_tv:],indices_train[:split_tv]\n",
    "\n",
    "# Samplers for obtaining the batches\n",
    "train_sampler = SubsetRandomSampler(train_new_idx)\n",
    "test_sampler = SubsetRandomSampler(test_idx)\n",
    "valid_sampler = SubsetRandomSampler(valid_idx)"
   ]
  },
  {
   "cell_type": "code",
   "execution_count": 12,
   "metadata": {},
   "outputs": [],
   "source": [
    "train_loader = torch.utils.data.DataLoader(data, batch_size=batch_size, sampler=train_sampler, num_workers=1)\n",
    "valid_loader = torch.utils.data.DataLoader(data, batch_size=batch_size, sampler=valid_sampler, num_workers=1)\n",
    "test_loader = torch.utils.data.DataLoader(data, batch_size=batch_size, sampler = test_sampler,  num_workers=1)"
   ]
  },
  {
   "cell_type": "code",
   "execution_count": 13,
   "metadata": {},
   "outputs": [
    {
     "name": "stdout",
     "output_type": "stream",
     "text": [
      "Batches in Training Dataset:  254\n",
      "Batches in Test Dataset:  32\n",
      "Batches in Validation Dataset:  29\n"
     ]
    }
   ],
   "source": [
    "print(\"Batches in Training Dataset: \",len(train_loader))\n",
    "print(\"Batches in Test Dataset: \",len(test_loader))\n",
    "print(\"Batches in Validation Dataset: \",len(valid_loader))"
   ]
  },
  {
   "cell_type": "code",
   "execution_count": 14,
   "metadata": {},
   "outputs": [],
   "source": [
    "# Viewing the class distribution of the data loaders\n",
    "def get_class_distribution_loaders(dataloader_obj, dataset_obj):\n",
    "    count_dict = {k:0 for k,v in dataset_obj.class_to_idx.items()}\n",
    "    if dataloader_obj.batch_size == 1:    \n",
    "        for _,label_id in dataloader_obj:\n",
    "            y_idx = label_id.item()\n",
    "            y_lbl = lab2class[y_idx]\n",
    "            count_dict[str(y_lbl)] += 1\n",
    "    else: \n",
    "        for _,label_id in dataloader_obj:\n",
    "            for idx in label_id:\n",
    "                y_idx = idx.item()\n",
    "                y_lbl = lab2class[y_idx]\n",
    "                count_dict[str(y_lbl)] += 1\n",
    "    return count_dict"
   ]
  },
  {
   "cell_type": "code",
   "execution_count": 15,
   "metadata": {},
   "outputs": [
    {
     "data": {
      "text/plain": [
       "Text(0.5, 1.0, 'Validation Dataset')"
      ]
     },
     "execution_count": 15,
     "metadata": {},
     "output_type": "execute_result"
    },
    {
     "data": {
      "image/png": "[encoded data removed]",
      "text/plain": [
       "<Figure size 1080x360 with 3 Axes>"
      ]
     },
     "metadata": {},
     "output_type": "display_data"
    }
   ],
   "source": [
    "# Plotting the class distribution of the three data loaders\n",
    "fig, axes = plt.subplots(nrows=1, ncols=3, figsize=(15,5))\n",
    "plot_from_dict(get_class_distribution_loaders(train_loader, data), plot_title=\"Training Dataset\", ax=axes[0])\n",
    "plot_from_dict(get_class_distribution_loaders(test_loader, data), plot_title=\"Test Dataset\", ax=axes[1])\n",
    "plot_from_dict(get_class_distribution_loaders(valid_loader, data), plot_title=\"Validation Dataset\", ax=axes[2])"
   ]
  },
  {
   "cell_type": "code",
   "execution_count": 16,
   "metadata": {},
   "outputs": [
    {
     "data": {
      "image/png": "[encoded data removed]",
      "text/plain": [
       "<Figure size 864x360 with 10 Axes>"
      ]
     },
     "metadata": {},
     "output_type": "display_data"
    }
   ],
   "source": [
    "# A function to un-normalize and display an image\n",
    "def imshow(img):\n",
    "#     img = img / 2 + 0.5  # for un-normalizing the image\n",
    "    plt.imshow(np.transpose(img, (1, 2, 0)))  # to convert from Tensor\n",
    "    \n",
    "# Obtaining a batch of training images\n",
    "dataiter = iter(train_loader)\n",
    "images, labels = dataiter.next()\n",
    "images = images.numpy() # Converting the images to numpy for display\n",
    "\n",
    "# Plotting the images in the batch, along with their corresponding class IDs\n",
    "fig = plt.figure(figsize=(12, 5))\n",
    "\n",
    "for id in np.arange(10):    # Displaying 10 images from the batch\n",
    "    ax = fig.add_subplot(2, 10/2, id+1, xticks=[], yticks=[])\n",
    "    imshow(images[id])\n",
    "    ax.set_title(classes[labels[id]])"
   ]
  },
  {
   "cell_type": "markdown",
   "metadata": {},
   "source": [
    "## Building the Model"
   ]
  },
  {
   "cell_type": "markdown",
   "metadata": {},
   "source": [
    "### Defining the Model"
   ]
  },
  {
   "cell_type": "code",
   "execution_count": 17,
   "metadata": {
    "scrolled": true
   },
   "outputs": [
    {
     "name": "stdout",
     "output_type": "stream",
     "text": [
      "Net(\n",
      "  (conv1): Conv2d(3, 16, kernel_size=(5, 5), stride=(1, 1))\n",
      "  (pool): MaxPool2d(kernel_size=2, stride=2, padding=0, dilation=1, ceil_mode=False)\n",
      "  (conv2): Conv2d(16, 32, kernel_size=(5, 5), stride=(1, 1))\n",
      "  (dropout): Dropout(p=0.2, inplace=False)\n",
      "  (fc1): Linear(in_features=89888, out_features=256, bias=True)\n",
      "  (fc2): Linear(in_features=256, out_features=84, bias=True)\n",
      "  (fc3): Linear(in_features=84, out_features=2, bias=True)\n",
      "  (softmax): LogSoftmax()\n",
      ")\n"
     ]
    }
   ],
   "source": [
    "import torch.nn as nn\n",
    "import torch.nn.functional as F\n",
    "CUDA_available = torch.cuda.is_available()  # Check if CUDA is available\n",
    "\n",
    "# Define the CNN architecture\n",
    "class Net(nn.Module):\n",
    "    def __init__(self):\n",
    "        super(Net, self).__init__()\n",
    "        self.conv1 = nn.Conv2d(3, 16, 5) # convolutional layer\n",
    "        self.pool = nn.MaxPool2d(2, 2)  # maxpooling layer\n",
    "        self.conv2 = nn.Conv2d(16, 32, 5)\n",
    "        self.dropout = nn.Dropout(0.2)\n",
    "        self.fc1 = nn.Linear(32*53*53, 256)\n",
    "        self.fc2 = nn.Linear(256, 84)\n",
    "        self.fc3 = nn.Linear(84, 2)\n",
    "        self.softmax = nn.LogSoftmax(dim=1)\n",
    "\n",
    "    def forward(self, x):\n",
    "        # add sequence of convolutional and max pooling layers\n",
    "        x = self.pool(F.relu(self.conv1(x)))\n",
    "        x = self.pool(F.relu(self.conv2(x)))\n",
    "        x = self.dropout(x)\n",
    "        x = x.view(-1, 32 * 53 * 53)\n",
    "        x = F.relu(self.fc1(x))\n",
    "        x = self.dropout(F.relu(self.fc2(x)))\n",
    "        x = self.softmax(self.fc3(x))\n",
    "        return x\n",
    "\n",
    "model = Net()\n",
    "print(model)\n",
    "\n",
    "# Move to GPU if CUDA is available\n",
    "if CUDA_available:\n",
    "    model.cuda()"
   ]
  },
  {
   "cell_type": "markdown",
   "metadata": {},
   "source": [
    "### Model Summary"
   ]
  },
  {
   "cell_type": "code",
   "execution_count": 18,
   "metadata": {
    "scrolled": false
   },
   "outputs": [
    {
     "name": "stdout",
     "output_type": "stream",
     "text": [
      "----------------------------------------------------------------\n",
      "        Layer (type)               Output Shape         Param #\n",
      "================================================================\n",
      "            Conv2d-1         [-1, 16, 220, 220]           1,216\n",
      "         MaxPool2d-2         [-1, 16, 110, 110]               0\n",
      "            Conv2d-3         [-1, 32, 106, 106]          12,832\n",
      "         MaxPool2d-4           [-1, 32, 53, 53]               0\n",
      "           Dropout-5           [-1, 32, 53, 53]               0\n",
      "            Linear-6                  [-1, 256]      23,011,584\n",
      "            Linear-7                   [-1, 84]          21,588\n",
      "           Dropout-8                   [-1, 84]               0\n",
      "            Linear-9                    [-1, 2]             170\n",
      "       LogSoftmax-10                    [-1, 2]               0\n",
      "================================================================\n",
      "Total params: 23,047,390\n",
      "Trainable params: 23,047,390\n",
      "Non-trainable params: 0\n",
      "----------------------------------------------------------------\n",
      "Input size (MB): 0.57\n",
      "Forward/backward pass size (MB): 11.50\n",
      "Params size (MB): 87.92\n",
      "Estimated Total Size (MB): 100.00\n",
      "----------------------------------------------------------------\n"
     ]
    }
   ],
   "source": [
    "from torchsummary import summary\n",
    "summary(model,(3,224,224))"
   ]
  },
  {
   "cell_type": "markdown",
   "metadata": {},
   "source": [
    "## Training the Model"
   ]
  },
  {
   "cell_type": "markdown",
   "metadata": {},
   "source": [
    "### Setting the hyperparameters"
   ]
  },
  {
   "cell_type": "code",
   "execution_count": 19,
   "metadata": {},
   "outputs": [],
   "source": [
    "import torch.optim as optim\n",
    "\n",
    "# Loss Function\n",
    "criterion = torch.nn.CrossEntropyLoss()\n",
    "\n",
    "# Learning Rate\n",
    "learning_rate = 0.003\n",
    "\n",
    "# Optimizer\n",
    "optimizer = torch.optim.SGD(model.parameters(), lr = learning_rate, momentum=0.9, nesterov=True)"
   ]
  },
  {
   "cell_type": "markdown",
   "metadata": {},
   "source": [
    "### Training and Validation"
   ]
  },
  {
   "cell_type": "code",
   "execution_count": 20,
   "metadata": {
    "scrolled": false
   },
   "outputs": [
    {
     "name": "stdout",
     "output_type": "stream",
     "text": [
      "\n",
      "Epoch [1/50]: \tTraining Loss: 0.556672 \tValidation Loss: 0.061489\n",
      "Validation loss decreased from (inf to 0.061489).  \tSaving model ...\n",
      "\n",
      "Epoch [2/50]: \tTraining Loss: 0.552673 \tValidation Loss: 0.060260\n",
      "Validation loss decreased from (0.061489 to 0.060260).  \tSaving model ...\n",
      "\n",
      "Epoch [3/50]: \tTraining Loss: 0.481851 \tValidation Loss: 0.054740\n",
      "Validation loss decreased from (0.060260 to 0.054740).  \tSaving model ...\n",
      "\n",
      "Epoch [4/50]: \tTraining Loss: 0.369987 \tValidation Loss: 0.036625\n",
      "Validation loss decreased from (0.054740 to 0.036625).  \tSaving model ...\n",
      "\n",
      "Epoch [5/50]: \tTraining Loss: 0.319951 \tValidation Loss: 0.030863\n",
      "Validation loss decreased from (0.036625 to 0.030863).  \tSaving model ...\n",
      "\n",
      "Epoch [6/50]: \tTraining Loss: 0.291718 \tValidation Loss: 0.027426\n",
      "Validation loss decreased from (0.030863 to 0.027426).  \tSaving model ...\n",
      "\n",
      "Epoch [7/50]: \tTraining Loss: 0.274448 \tValidation Loss: 0.027870\n",
      "\n",
      "Epoch [8/50]: \tTraining Loss: 0.262646 \tValidation Loss: 0.028321\n",
      "\n",
      "Epoch [9/50]: \tTraining Loss: 0.250095 \tValidation Loss: 0.023825\n",
      "Validation loss decreased from (0.027426 to 0.023825).  \tSaving model ...\n",
      "\n",
      "Epoch [10/50]: \tTraining Loss: 0.226480 \tValidation Loss: 0.022043\n",
      "Validation loss decreased from (0.023825 to 0.022043).  \tSaving model ...\n",
      "\n",
      "Epoch [11/50]: \tTraining Loss: 0.224963 \tValidation Loss: 0.023709\n",
      "\n",
      "Epoch [12/50]: \tTraining Loss: 0.209786 \tValidation Loss: 0.024661\n",
      "\n",
      "Epoch [13/50]: \tTraining Loss: 0.197713 \tValidation Loss: 0.019280\n",
      "Validation loss decreased from (0.022043 to 0.019280).  \tSaving model ...\n",
      "\n",
      "Epoch [14/50]: \tTraining Loss: 0.195484 \tValidation Loss: 0.016357\n",
      "Validation loss decreased from (0.019280 to 0.016357).  \tSaving model ...\n",
      "\n",
      "Epoch [15/50]: \tTraining Loss: 0.183346 \tValidation Loss: 0.018203\n",
      "\n",
      "Epoch [16/50]: \tTraining Loss: 0.166123 \tValidation Loss: 0.011701\n",
      "Validation loss decreased from (0.016357 to 0.011701).  \tSaving model ...\n",
      "\n",
      "Epoch [17/50]: \tTraining Loss: 0.152469 \tValidation Loss: 0.017552\n",
      "\n",
      "Epoch [18/50]: \tTraining Loss: 0.141343 \tValidation Loss: 0.015439\n",
      "\n",
      "Epoch [19/50]: \tTraining Loss: 0.131041 \tValidation Loss: 0.012005\n",
      "\n",
      "Epoch [20/50]: \tTraining Loss: 0.130194 \tValidation Loss: 0.010431\n",
      "Validation loss decreased from (0.011701 to 0.010431).  \tSaving model ...\n",
      "\n",
      "Epoch [21/50]: \tTraining Loss: 0.121464 \tValidation Loss: 0.007338\n",
      "Validation loss decreased from (0.010431 to 0.007338).  \tSaving model ...\n",
      "\n",
      "Epoch [22/50]: \tTraining Loss: 0.120787 \tValidation Loss: 0.010757\n",
      "\n",
      "Epoch [23/50]: \tTraining Loss: 0.115027 \tValidation Loss: 0.009246\n",
      "\n",
      "Epoch [24/50]: \tTraining Loss: 0.100497 \tValidation Loss: 0.008581\n",
      "\n",
      "Epoch [25/50]: \tTraining Loss: 0.100593 \tValidation Loss: 0.007773\n",
      "\n",
      "Epoch [26/50]: \tTraining Loss: 0.091860 \tValidation Loss: 0.030195\n",
      "\n",
      "Epoch [27/50]: \tTraining Loss: 0.103839 \tValidation Loss: 0.009466\n",
      "\n",
      "Epoch [28/50]: \tTraining Loss: 0.092655 \tValidation Loss: 0.008205\n",
      "\n",
      "Epoch [29/50]: \tTraining Loss: 0.085152 \tValidation Loss: 0.007567\n",
      "\n",
      "Epoch [30/50]: \tTraining Loss: 0.086895 \tValidation Loss: 0.006198\n",
      "Validation loss decreased from (0.007338 to 0.006198).  \tSaving model ...\n",
      "\n",
      "Epoch [31/50]: \tTraining Loss: 0.079456 \tValidation Loss: 0.006283\n",
      "\n",
      "Epoch [32/50]: \tTraining Loss: 0.081038 \tValidation Loss: 0.006397\n",
      "\n",
      "Epoch [33/50]: \tTraining Loss: 0.073987 \tValidation Loss: 0.006475\n",
      "\n",
      "Epoch [34/50]: \tTraining Loss: 0.077437 \tValidation Loss: 0.003012\n",
      "Validation loss decreased from (0.006198 to 0.003012).  \tSaving model ...\n",
      "\n",
      "Epoch [35/50]: \tTraining Loss: 0.071294 \tValidation Loss: 0.003696\n",
      "\n",
      "Epoch [36/50]: \tTraining Loss: 0.071624 \tValidation Loss: 0.004660\n",
      "\n",
      "Epoch [37/50]: \tTraining Loss: 0.065781 \tValidation Loss: 0.007407\n",
      "\n",
      "Epoch [38/50]: \tTraining Loss: 0.062584 \tValidation Loss: 0.006418\n",
      "\n",
      "Epoch [39/50]: \tTraining Loss: 0.069164 \tValidation Loss: 0.019681\n",
      "\n",
      "Epoch [40/50]: \tTraining Loss: 0.085917 \tValidation Loss: 0.006726\n",
      "\n",
      "Epoch [41/50]: \tTraining Loss: 0.067622 \tValidation Loss: 0.007898\n",
      "\n",
      "Epoch [42/50]: \tTraining Loss: 0.063684 \tValidation Loss: 0.005588\n",
      "\n",
      "Epoch [43/50]: \tTraining Loss: 0.063702 \tValidation Loss: 0.004143\n",
      "\n",
      "Epoch [44/50]: \tTraining Loss: 0.059630 \tValidation Loss: 0.005460\n",
      "\n",
      "Epoch [45/50]: \tTraining Loss: 0.056892 \tValidation Loss: 0.028283\n",
      "\n",
      "Epoch [46/50]: \tTraining Loss: 0.062029 \tValidation Loss: 0.003147\n",
      "\n",
      "Epoch [47/50]: \tTraining Loss: 0.056806 \tValidation Loss: 0.008610\n",
      "\n",
      "Epoch [48/50]: \tTraining Loss: 0.052548 \tValidation Loss: 0.006784\n",
      "\n",
      "Epoch [49/50]: \tTraining Loss: 0.050477 \tValidation Loss: 0.003754\n",
      "\n",
      "Epoch [50/50]: \tTraining Loss: 0.054686 \tValidation Loss: 0.003973\n"
     ]
    }
   ],
   "source": [
    "# Number of epochs\n",
    "n_epochs = 50\n",
    "\n",
    "valid_loss_min = np.Inf # For tracking the change in validation loss\n",
    "train_losses = [] # To store training losses\n",
    "valid_losses = [] # To store validation losses\n",
    "\n",
    "for epoch in range(1, n_epochs+1):\n",
    "    \n",
    "    # For tracking of training and validation loss\n",
    "    train_loss = 0.0\n",
    "    valid_loss = 0.0\n",
    "    \n",
    "    # Training the model\n",
    "    model.train()\n",
    "    for data, target in train_loader:\n",
    "        # Move to GPU if CUDA is available\n",
    "        if CUDA_available:\n",
    "            data, target = data.cuda(), target.cuda()            \n",
    "        # Clear the gradients of all optimized variables\n",
    "        optimizer.zero_grad()        \n",
    "        # Forward Pass: Compute predicted outputs by passing inputs to the model\n",
    "        output = model(data)        \n",
    "        # Calculating the batch loss\n",
    "        loss = criterion(output, target)\n",
    "        # Backward Pass: Compute gradient of the loss with respect to model parameters\n",
    "        loss.backward()\n",
    "        # Performing a single optimization step (Updating the parameters)\n",
    "        optimizer.step()\n",
    "        # Updating the training loss\n",
    "        train_loss += loss.item()*data.size(0)\n",
    "        \n",
    "    #Validating the model\n",
    "    model.eval()\n",
    "    with torch.no_grad():\n",
    "        for data, target in valid_loader:\n",
    "            # Move to GPU if CUDA is available\n",
    "            if CUDA_available:\n",
    "                data, target = data.cuda(), target.cuda()\n",
    "            # Forward Pass: Compute predicted outputs by passing inputs to the model\n",
    "            output = model(data)\n",
    "            _, preds = torch.max(output, 1)\n",
    "            # Calculating the batch loss\n",
    "            loss = criterion(output, target)\n",
    "            # Updating the average validation loss \n",
    "            valid_loss += loss.item()*data.size(0)\n",
    "    \n",
    "    # Calculating the average losses\n",
    "    train_loss = train_loss/len(train_loader.dataset)\n",
    "    valid_loss = valid_loss/len(valid_loader.dataset)\n",
    "    train_losses.append(train_loss)\n",
    "    valid_losses.append(valid_loss)\n",
    "    \n",
    "    # Displaying the training and validation statistics\n",
    "    print('')\n",
    "    print('Epoch [{}/{}]: \\tTraining Loss: {:.6f} \\tValidation Loss: {:.6f}'.format(\n",
    "        epoch, n_epochs, train_loss, valid_loss))\n",
    "    \n",
    "    # Saving the model if validation loss has decreased\n",
    "    if valid_loss <= valid_loss_min:\n",
    "        print('Validation loss decreased from ({:.6f} to {:.6f}).  \\tSaving model ...'.format(\n",
    "        valid_loss_min,\n",
    "        valid_loss))\n",
    "        torch.save(model.state_dict(), 'model_classification.pt')\n",
    "        valid_loss_min = valid_loss"
   ]
  },
  {
   "cell_type": "markdown",
   "metadata": {},
   "source": [
    "### Visualising Training and Validation Losses"
   ]
  },
  {
   "cell_type": "code",
   "execution_count": 21,
   "metadata": {},
   "outputs": [
    {
     "data": {
      "image/png": "[encoded data removed]",
      "text/plain": [
       "<Figure size 432x288 with 1 Axes>"
      ]
     },
     "metadata": {},
     "output_type": "display_data"
    }
   ],
   "source": [
    "plt.plot(train_losses, label='Training loss')\n",
    "plt.plot(valid_losses, label='Validation loss')\n",
    "plt.xlabel('Epochs')\n",
    "plt.ylabel('Value')\n",
    "plt.title('Losses curve')\n",
    "plt.legend()\n",
    "plt.show()"
   ]
  },
  {
   "cell_type": "markdown",
   "metadata": {},
   "source": [
    "As we can see, after 3 epochs, there is a sharp fall in <b>Training</b> and <b>Validation losses</b>"
   ]
  },
  {
   "cell_type": "markdown",
   "metadata": {},
   "source": [
    "## Testing "
   ]
  },
  {
   "cell_type": "code",
   "execution_count": 22,
   "metadata": {},
   "outputs": [
    {
     "name": "stdout",
     "output_type": "stream",
     "text": [
      "Test Loss: 0.004137\n",
      "\n"
     ]
    }
   ],
   "source": [
    "# Tracking the test loss\n",
    "test_loss = 0.0\n",
    "class_correct = list(0. for i in range(2))\n",
    "class_total = list(0. for i in range(2))\n",
    "\n",
    "# Storing the actual and predicated values by the model for further analysis\n",
    "y_true_list = []\n",
    "y_pred_list = []\n",
    "\n",
    "# For confusion matrix for analysis\n",
    "nb_classes = 2\n",
    "cf_matrix = np.zeros((nb_classes, nb_classes))\n",
    "\n",
    "model.eval()\n",
    "i=1\n",
    "len(test_loader)\n",
    "\n",
    "# Iterating over test data\n",
    "for data, target in test_loader:\n",
    "    i=i+1\n",
    "    if len(target)!=batch_size:\n",
    "        continue\n",
    "        \n",
    "    # Move to GPU if CUDA is available\n",
    "    if CUDA_available:\n",
    "        data, target = data.cuda(), target.cuda()\n",
    "    \n",
    "    # Forward Pass: Compute predicted outputs by passing inputs to the model\n",
    "    output = model(data)\n",
    "    \n",
    "    # Calculating the batch loss\n",
    "    loss = criterion(output, target)\n",
    "    \n",
    "    # Updating the test loss\n",
    "    test_loss += loss.item()*data.size(0)\n",
    "    \n",
    "    # Converting the output probabilities to predicted class\n",
    "    _, pred = torch.max(output, dim=1)    \n",
    "    \n",
    "    # Appending the values to the list for analysis later\n",
    "    y_pred_list.append(pred.cpu().numpy())\n",
    "    y_true_list.append(target.cpu().numpy())\n",
    "    \n",
    "    # Comparing the predictions to true label\n",
    "    correct_tensor = pred.eq(target.data.view_as(pred))\n",
    "    correct = np.squeeze(correct_tensor.numpy()) if not CUDA_available else np.squeeze(correct_tensor.cpu().numpy())\n",
    "    \n",
    "    # Calculating the test accuracy for each object class\n",
    "    for i in range(batch_size):       \n",
    "        label = target.data[i]\n",
    "        class_correct[label] += correct[i].item()\n",
    "        class_total[label] += 1\n",
    "    \n",
    "    # For confusion matrix  \n",
    "    for tar, pre in zip(target.view(-1), pred.view(-1)):\n",
    "        cf_matrix[tar.long(), pre.long()] += 1\n",
    "\n",
    "# Flattening out the lists\n",
    "y_pred_list = [i[0] for i in y_pred_list]\n",
    "y_true_list = [i[0] for i in y_true_list]\n",
    "\n",
    "# Calculating Test Loss\n",
    "test_loss = test_loss/len(test_loader.dataset)\n",
    "print('Test Loss: {:.6f}\\n'.format(test_loss))"
   ]
  },
  {
   "cell_type": "markdown",
   "metadata": {},
   "source": [
    "## Analyzing Model results"
   ]
  },
  {
   "cell_type": "markdown",
   "metadata": {},
   "source": [
    "### Accuracy"
   ]
  },
  {
   "cell_type": "code",
   "execution_count": 23,
   "metadata": {},
   "outputs": [
    {
     "name": "stdout",
     "output_type": "stream",
     "text": [
      "Test Accuracy of     0: 96% (462/481)\n",
      "Test Accuracy of     1: 99% (510/511)\n",
      "\n",
      "Test Accuracy (Overall): 97% (972/992)\n"
     ]
    }
   ],
   "source": [
    "for i in range(2):\n",
    "    if class_total[i] > 0:\n",
    "        print('Test Accuracy of %5s: %2d%% (%2d/%2d)' % (\n",
    "            classes[i], 100 * class_correct[i] / class_total[i],\n",
    "            np.sum(class_correct[i]), np.sum(class_total[i])))\n",
    "    else: # A check if no training examples present\n",
    "        print('Test Accuracy of %5s: N/A (no training examples)' % (classes[i]))\n",
    "\n",
    "print('\\nTest Accuracy (Overall): %2d%% (%2d/%2d)' % (\n",
    "    100. * np.sum(class_correct) / np.sum(class_total),\n",
    "    np.sum(class_correct), np.sum(class_total)))"
   ]
  },
  {
   "cell_type": "markdown",
   "metadata": {},
   "source": [
    "### Classification Report"
   ]
  },
  {
   "cell_type": "code",
   "execution_count": 24,
   "metadata": {},
   "outputs": [
    {
     "name": "stdout",
     "output_type": "stream",
     "text": [
      "              precision    recall  f1-score   support\n",
      "\n",
      "           0       1.00      1.00      1.00        14\n",
      "           1       1.00      1.00      1.00        17\n",
      "\n",
      "   micro avg       1.00      1.00      1.00        31\n",
      "   macro avg       1.00      1.00      1.00        31\n",
      "weighted avg       1.00      1.00      1.00        31\n",
      "\n"
     ]
    }
   ],
   "source": [
    "from sklearn.metrics import classification_report\n",
    "print(classification_report(y_true_list, y_pred_list))"
   ]
  },
  {
   "cell_type": "markdown",
   "metadata": {},
   "source": [
    "### Confusion Matrix"
   ]
  },
  {
   "cell_type": "code",
   "execution_count": 25,
   "metadata": {},
   "outputs": [
    {
     "data": {
      "text/plain": [
       "Text(0.5, 23.09375, 'Predicted label')"
      ]
     },
     "execution_count": 25,
     "metadata": {},
     "output_type": "execute_result"
    },
    {
     "data": {
      "image/png": "[encoded data removed]",
      "text/plain": [
       "<Figure size 504x360 with 2 Axes>"
      ]
     },
     "metadata": {},
     "output_type": "display_data"
    }
   ],
   "source": [
    "plt.figure(figsize=(7,5))\n",
    "\n",
    "class_names = list(lab2class.values())\n",
    "df_cm = pd.DataFrame(cf_matrix, index=class_names, columns=class_names).astype(int)\n",
    "heatmap = sns.heatmap(df_cm, annot=True, fmt=\"d\")\n",
    "\n",
    "heatmap.yaxis.set_ticklabels(heatmap.yaxis.get_ticklabels(), rotation=0, ha='right',fontsize=15)\n",
    "heatmap.xaxis.set_ticklabels(heatmap.xaxis.get_ticklabels(), rotation=45, ha='right',fontsize=15)\n",
    "plt.ylabel('True label')\n",
    "plt.xlabel('Predicted label')"
   ]
  },
  {
   "cell_type": "markdown",
   "metadata": {},
   "source": [
    "### ROC curve"
   ]
  },
  {
   "cell_type": "code",
   "execution_count": 26,
   "metadata": {},
   "outputs": [],
   "source": [
    "from sklearn.metrics import roc_auc_score, roc_curve\n",
    "fpr, tpr, thresholds = roc_curve(y_true_list,y_pred_list)\n",
    "roc_score = roc_auc_score(y_true_list,y_pred_list)"
   ]
  },
  {
   "cell_type": "code",
   "execution_count": 27,
   "metadata": {},
   "outputs": [
    {
     "data": {
      "image/png": "[encoded data removed]",
      "text/plain": [
       "<Figure size 504x504 with 1 Axes>"
      ]
     },
     "metadata": {},
     "output_type": "display_data"
    }
   ],
   "source": [
    "plt.subplots(1, figsize=(7,7))\n",
    "plt.title('Receiver Operating Characteristic')\n",
    "plt.plot(fpr, tpr, label='ROC curve (AUC = {:.3f})'.format(roc_score))\n",
    "plt.plot([0, 1], ls=\"--\")\n",
    "plt.plot([0, 0], [1, 0] , c=\".7\"), plt.plot([1, 1] , c=\".7\")\n",
    "plt.ylabel('True Positive Rate')\n",
    "plt.xlabel('False Positive Rate')\n",
    "plt.legend(loc='best')\n",
    "plt.show()"
   ]
  }
 ],
 "metadata": {
  "kernelspec": {
   "display_name": "Python [conda env:dl] *",
   "language": "python",
   "name": "conda-env-dl-py"
  },
  "language_info": {
   "codemirror_mode": {
    "name": "ipython",
    "version": 3
   },
   "file_extension": ".py",
   "mimetype": "text/x-python",
   "name": "python",
   "nbconvert_exporter": "python",
   "pygments_lexer": "ipython3",
   "version": "3.7.9"
  }
 },
 "nbformat": 4,
 "nbformat_minor": 4
}
