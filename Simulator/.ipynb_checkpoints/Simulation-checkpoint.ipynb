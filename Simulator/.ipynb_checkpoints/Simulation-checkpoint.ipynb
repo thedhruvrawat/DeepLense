{
 "cells": [
  {
   "cell_type": "markdown",
   "metadata": {},
   "source": [
    "# Simulating Strong Lensing from Superfluid Dark Matter"
   ]
  },
  {
   "cell_type": "code",
   "execution_count": null,
   "metadata": {},
   "outputs": [],
   "source": [
    "%matplotlib inline\n",
    "import autolens as al\n",
    "import autolens.plot as aplt"
   ]
  },
  {
   "cell_type": "code",
   "execution_count": null,
   "metadata": {},
   "outputs": [],
   "source": [
    "psf = al.Kernel2D.from_gaussian(shape_native=(11, 11), sigma=0.1, pixel_scales=0.1)\n",
    "image_plane_grid = al.Grid2D.uniform(\n",
    "    shape_native=(100, 100), pixel_scales=0.05, sub_size=2\n",
    ")"
   ]
  },
  {
   "cell_type": "code",
   "execution_count": null,
   "metadata": {},
   "outputs": [],
   "source": [
    "mass_profile_1 = al.mp.PointMass(centre=(0.0, 0.0), einstein_radius=1.0)\n",
    "mass_profile_2 = al.mp.PointMass(centre=(0.0, 0.1), einstein_radius=1.0)\n",
    "mass_profile_3 = al.mp.PointMass(centre=(0.0, -0.1), einstein_radius=1.0)\n",
    "mass_profile_4 = al.mp.PointMass(centre=(0.0, 0.2), einstein_radius=1.0)\n",
    "mass_profile_5 = al.mp.PointMass(centre=(0.0, -0.2), einstein_radius=1.0)\n",
    "mass_profile_6 = al.mp.PointMass(centre=(0.0, 0.3), einstein_radius=1.0)\n",
    "mass_profile_7 = al.mp.PointMass(centre=(0.0, -0.3), einstein_radius=1.0)\n",
    "mass_profile_8 = al.mp.PointMass(centre=(0.0, 0.4), einstein_radius=1.0)\n",
    "mass_profile_9 = al.mp.PointMass(centre=(0.0, -0.4), einstein_radius=1.0)\n",
    "mass_profile_10 = al.mp.PointMass(centre=(0.0, 0.5), einstein_radius=1.0)\n",
    "mass_profile_11 = al.mp.PointMass(centre=(0.0, -0.5), einstein_radius=1.0)\n",
    "mass_profile_12 = al.mp.PointMass(centre=(0.0, 0.6), einstein_radius=1.0)\n",
    "mass_profile_13 = al.mp.PointMass(centre=(0.0, -0.6), einstein_radius=1.0)\n",
    "mass_profile_14 = al.mp.PointMass(centre=(0.0, 0.7), einstein_radius=1.0)\n",
    "mass_profile_15 = al.mp.PointMass(centre=(0.0, -0.7), einstein_radius=1.0)\n",
    "mass_profile_16 = al.mp.PointMass(centre=(0.0, 0.8), einstein_radius=1.0)\n",
    "mass_profile_17 = al.mp.PointMass(centre=(0.0, -0.8), einstein_radius=1.0)\n",
    "mass_profile_18 = al.mp.PointMass(centre=(0.0, 0.9), einstein_radius=1.0)\n",
    "mass_profile_19 = al.mp.PointMass(centre=(0.0, -0.9), einstein_radius=1.0)\n",
    "mass_profile_20 = al.mp.PointMass(centre=(0.0, 1.0), einstein_radius=1.0)\n",
    "mass_profile_21 = al.mp.PointMass(centre=(0.0, -1.0), einstein_radius=1.0)\n",
    "\n",
    "lens_galaxy = al.Galaxy(\n",
    "    redshift=0.5, \n",
    "    mass_1=mass_profile_1, \n",
    "    mass_2=mass_profile_2, \n",
    "    mass_3=mass_profile_3, \n",
    "    mass_4=mass_profile_4, \n",
    "    mass_5=mass_profile_5, \n",
    "    mass_6=mass_profile_6, \n",
    "    mass_7=mass_profile_7, \n",
    "    mass_8=mass_profile_8, \n",
    "    mass_9=mass_profile_9, \n",
    "    mass_10=mass_profile_10, \n",
    "    mass_11=mass_profile_11, \n",
    "    mass_12=mass_profile_12, \n",
    "    mass_13=mass_profile_13,\n",
    "    mass_14=mass_profile_14, \n",
    "    mass_15=mass_profile_15, \n",
    "    mass_16=mass_profile_16, \n",
    "    mass_17=mass_profile_17,\n",
    "    mass_18=mass_profile_18, \n",
    "    mass_19=mass_profile_19, \n",
    "    mass_20=mass_profile_20, \n",
    "    mass_21=mass_profile_21\n",
    ")\n",
    "\n",
    "\n",
    "light_profile = al.lp.SphericalSersic(\n",
    "    centre=(0.0, 0.0), intensity=1.0, effective_radius=1.0, sersic_index=1.0\n",
    ")\n",
    "\n",
    "source_galaxy = al.Galaxy(redshift=1.0, bulge=light_profile)"
   ]
  },
  {
   "cell_type": "code",
   "execution_count": null,
   "metadata": {
    "scrolled": false
   },
   "outputs": [],
   "source": [
    "galaxy_plotter = aplt.GalaxyPlotter(galaxy=lens_galaxy, grid=image_plane_grid)\n",
    "galaxy_plotter.figures(image=True, deflections_y=True, deflections_x=True)"
   ]
  },
  {
   "cell_type": "markdown",
   "metadata": {},
   "source": [
    "# Tracer"
   ]
  },
  {
   "cell_type": "code",
   "execution_count": null,
   "metadata": {},
   "outputs": [],
   "source": [
    "tracer = al.Tracer.from_galaxies(galaxies=[lens_galaxy, source_galaxy])"
   ]
  },
  {
   "cell_type": "code",
   "execution_count": null,
   "metadata": {
    "scrolled": false
   },
   "outputs": [],
   "source": [
    "tracer_plotter = aplt.TracerPlotter(tracer=tracer, grid=grid)\n",
    "tracer_plotter.subplot_tracer()"
   ]
  },
  {
   "cell_type": "code",
   "execution_count": null,
   "metadata": {},
   "outputs": [],
   "source": [
    "normal_image = tracer.image_from_grid(grid=grid)\n",
    "padded_image = tracer.padded_image_from_grid_and_psf_shape(\n",
    "    grid=grid, psf_shape_2d=psf.shape_native\n",
    ")\n",
    "\n",
    "print(normal_image.shape_native)\n",
    "print(padded_image.shape_native)"
   ]
  },
  {
   "cell_type": "code",
   "execution_count": null,
   "metadata": {},
   "outputs": [],
   "source": [
    "simulator = al.SimulatorImaging(\n",
    "    exposure_time=300.0, psf=psf, background_sky_level=0.1, add_poisson_noise=True\n",
    ")\n",
    "\n",
    "imaging = simulator.from_tracer_and_grid(tracer=tracer, grid=grid)"
   ]
  },
  {
   "cell_type": "code",
   "execution_count": null,
   "metadata": {
    "scrolled": false
   },
   "outputs": [],
   "source": [
    "imaging_plotter = aplt.ImagingPlotter(imaging=imaging)\n",
    "imaging_plotter.figures(image=True)"
   ]
  },
  {
   "cell_type": "code",
   "execution_count": null,
   "metadata": {
    "scrolled": false
   },
   "outputs": [],
   "source": [
    "print(\"Image:\")\n",
    "print(imaging.image)\n",
    "print(\"Noise-Map:\")\n",
    "print(imaging.noise_map)\n",
    "print(\"PSF:\")\n",
    "print(imaging.psf)"
   ]
  },
  {
   "cell_type": "markdown",
   "metadata": {},
   "source": [
    "# Planes"
   ]
  },
  {
   "cell_type": "code",
   "execution_count": null,
   "metadata": {},
   "outputs": [],
   "source": [
    "image_plane = al.Plane(galaxies=[lens_galaxy])"
   ]
  },
  {
   "cell_type": "code",
   "execution_count": null,
   "metadata": {},
   "outputs": [],
   "source": [
    "deflections = image_plane.deflections_from_grid(grid=image_plane_grid)\n",
    "\n",
    "print(\"deflection-angles of `Plane`'s `Grid2D` pixel 0:\")\n",
    "print(deflections.native[0, 0, 0])\n",
    "print(deflections.native[0, 0, 0])\n",
    "\n",
    "print(\"deflection-angles of `Plane`'s `Grid2D` pixel 1:\")\n",
    "print(deflections.native[0, 1, 1])\n",
    "print(deflections.native[0, 1, 1])"
   ]
  },
  {
   "cell_type": "code",
   "execution_count": null,
   "metadata": {},
   "outputs": [],
   "source": [
    "source_plane_grid = image_plane.traced_grid_from_grid(grid=image_plane_grid)\n",
    "print(\"Traced source-plane coordinates of `Grid2D` pixel 0:\")\n",
    "print(source_plane_grid.native[0, 0, :])\n",
    "print(\"Traced source-plane coordinates of `Grid2D` pixel 1:\")\n",
    "print(source_plane_grid.native[0, 1, :])"
   ]
  },
  {
   "cell_type": "code",
   "execution_count": null,
   "metadata": {},
   "outputs": [],
   "source": [
    "source_plane = al.Plane(galaxies=[source_galaxy])"
   ]
  },
  {
   "cell_type": "code",
   "execution_count": null,
   "metadata": {},
   "outputs": [],
   "source": [
    "mat_plot_2d = aplt.MatPlot2D(title=aplt.Title(label=\"Image-plane Grid2D\"))\n",
    "\n",
    "plane_plotter = aplt.PlanePlotter(\n",
    "    plane=image_plane, grid=image_plane_grid, mat_plot_2d=mat_plot_2d\n",
    ")\n",
    "plane_plotter.figures(plane_grid=True)\n",
    "\n",
    "mat_plot_2d = aplt.MatPlot2D(title=aplt.Title(label=\"Source-plane Grid2D\"))\n",
    "\n",
    "plane_plotter = aplt.PlanePlotter(\n",
    "    plane=source_plane, grid=source_plane_grid, mat_plot_2d=mat_plot_2d\n",
    ")\n",
    "plane_plotter.figures(plane_grid=True)\n",
    "\n",
    "mat_plot_2d = aplt.MatPlot2D(\n",
    "    title=aplt.Title(label=\"Source-plane Grid2D Zoomed\"),\n",
    "    axis=aplt.Axis(extent=[-10.0, 10.0, -10.0, 10.0]),\n",
    ")\n",
    "\n",
    "plane_plotter = aplt.PlanePlotter(\n",
    "    plane=source_plane, grid=source_plane_grid, mat_plot_2d=mat_plot_2d\n",
    ")\n",
    "\n",
    "plane_plotter.figures(plane_grid=True)"
   ]
  },
  {
   "cell_type": "code",
   "execution_count": null,
   "metadata": {},
   "outputs": [],
   "source": [
    "visuals_2d = aplt.Visuals2D(\n",
    "    indexes=[\n",
    "        range(0, 50),\n",
    "        range(500, 550),\n",
    "        [1350, 1450, 1550, 1650, 1750, 1850, 1950, 2050, 2150, 2250],\n",
    "        [6250, 8550, 8450, 8350, 8250, 8150, 8050, 7950, 7850, 7750],\n",
    "    ]\n",
    ")\n",
    "\n",
    "plane_plotter = aplt.PlanePlotter(\n",
    "    plane=image_plane,\n",
    "    grid=image_plane_grid,\n",
    "    visuals_2d=visuals_2d,\n",
    "    mat_plot_2d=mat_plot_2d,\n",
    ")\n",
    "plane_plotter.subplot_with_source_grid()"
   ]
  },
  {
   "cell_type": "code",
   "execution_count": null,
   "metadata": {},
   "outputs": [],
   "source": [
    "plane_plotter = aplt.PlanePlotter(plane=source_plane, grid=source_plane_grid)\n",
    "plane_plotter.figures(plane_image=True)"
   ]
  },
  {
   "cell_type": "code",
   "execution_count": null,
   "metadata": {
    "scrolled": false
   },
   "outputs": [],
   "source": [
    "include_2d = aplt.Include2D(critical_curves=True)\n",
    "\n",
    "plane_plotter = aplt.PlanePlotter(\n",
    "    plane=image_plane, grid=image_plane_grid, include_2d=include_2d\n",
    ")\n",
    "plane_plotter.figures(convergence=True)"
   ]
  }
 ],
 "metadata": {
  "kernelspec": {
   "display_name": "Python 3.8.2 64-bit",
   "language": "python",
   "name": "python38264bitb805d12b249242d59dc6b2476612e7f6"
  },
  "language_info": {
   "codemirror_mode": {
    "name": "ipython",
    "version": 3
   },
   "file_extension": ".py",
   "mimetype": "text/x-python",
   "name": "python",
   "nbconvert_exporter": "python",
   "pygments_lexer": "ipython3",
   "version": "3.8.5"
  }
 },
 "nbformat": 4,
 "nbformat_minor": 4
}
